{
 "cells": [
  {
   "cell_type": "markdown",
   "metadata": {},
   "source": [
    "<center>\n",
    "    <img src=\"https://cf-courses-data.s3.us.cloud-object-storage.appdomain.cloud/IBMDeveloperSkillsNetwork-DS0105EN-SkillsNetwork/labs/Module2/images/SN_web_lightmode.png\" width=\"300\" alt=\"cognitiveclass.ai logo\">\n",
    "</center>\n"
   ]
  },
  {
   "cell_type": "markdown",
   "metadata": {},
   "source": [
    "# MY JUPYTER NOTEBOOK"
   ]
  },
  {
   "cell_type": "markdown",
   "metadata": {},
   "source": [
    "This is a jupyter notebook example"
   ]
  },
  {
   "cell_type": "markdown",
   "metadata": {},
   "source": [
    "Data Science Lenguages\n",
    "* Python\n",
    "* R\n",
    "* Julia\n",
    "* SQL\n",
    "* MATLAB\n",
    "* Java\n",
    "* Scala\n",
    "* SAS\n",
    "* C++\n",
    "* Lua"
   ]
  },
  {
   "cell_type": "markdown",
   "metadata": {},
   "source": [
    "Data Science Libraries:\n",
    "* NumPy\n",
    "* Pandas\n",
    "* Matplotlib\n",
    "* Seaborn\n",
    "* Scikit-learn\n",
    "* TensorFlow\n",
    "* Keras\n",
    "* PyTorch\n",
    "* SciPy\n",
    "* Statsmodels\n"
   ]
  },
  {
   "cell_type": "code",
   "execution_count": 3,
   "metadata": {},
   "outputs": [
    {
     "data": {
      "text/html": [
       "<div>\n",
       "<style scoped>\n",
       "    .dataframe tbody tr th:only-of-type {\n",
       "        vertical-align: middle;\n",
       "    }\n",
       "\n",
       "    .dataframe tbody tr th {\n",
       "        vertical-align: top;\n",
       "    }\n",
       "\n",
       "    .dataframe thead th {\n",
       "        text-align: right;\n",
       "    }\n",
       "</style>\n",
       "<table border=\"1\" class=\"dataframe\">\n",
       "  <thead>\n",
       "    <tr style=\"text-align: right;\">\n",
       "      <th></th>\n",
       "      <th>Tool</th>\n",
       "      <th>Type</th>\n",
       "      <th>Purpose</th>\n",
       "    </tr>\n",
       "  </thead>\n",
       "  <tbody>\n",
       "    <tr>\n",
       "      <th>0</th>\n",
       "      <td>Python</td>\n",
       "      <td>Programming language</td>\n",
       "      <td>Data analysis, machine learning, data visualiz...</td>\n",
       "    </tr>\n",
       "    <tr>\n",
       "      <th>1</th>\n",
       "      <td>R</td>\n",
       "      <td>Programming language</td>\n",
       "      <td>Data analysis, statistical computing</td>\n",
       "    </tr>\n",
       "    <tr>\n",
       "      <th>2</th>\n",
       "      <td>SQL</td>\n",
       "      <td>Database language</td>\n",
       "      <td>Data management, querying, manipulation</td>\n",
       "    </tr>\n",
       "    <tr>\n",
       "      <th>3</th>\n",
       "      <td>Tableau</td>\n",
       "      <td>Data visualization tool</td>\n",
       "      <td>Data visualization, business intelligence</td>\n",
       "    </tr>\n",
       "    <tr>\n",
       "      <th>4</th>\n",
       "      <td>Excel</td>\n",
       "      <td>Spreadsheet software</td>\n",
       "      <td>Data analysis, data management</td>\n",
       "    </tr>\n",
       "  </tbody>\n",
       "</table>\n",
       "</div>"
      ],
      "text/plain": [
       "      Tool                     Type  \\\n",
       "0   Python     Programming language   \n",
       "1        R     Programming language   \n",
       "2      SQL        Database language   \n",
       "3  Tableau  Data visualization tool   \n",
       "4    Excel     Spreadsheet software   \n",
       "\n",
       "                                             Purpose  \n",
       "0  Data analysis, machine learning, data visualiz...  \n",
       "1               Data analysis, statistical computing  \n",
       "2            Data management, querying, manipulation  \n",
       "3          Data visualization, business intelligence  \n",
       "4                     Data analysis, data management  "
      ]
     },
     "metadata": {},
     "output_type": "display_data"
    }
   ],
   "source": [
    "import pandas as pd\n",
    "\n",
    "# Create a dictionary with data for the table\n",
    "data = {'Tool': ['Python', 'R', 'SQL', 'Tableau', 'Excel'], \n",
    "        'Type': ['Programming language', 'Programming language', 'Database language', 'Data visualization tool', 'Spreadsheet software'], \n",
    "        'Purpose': ['Data analysis, machine learning, data visualization', 'Data analysis, statistical computing', 'Data management, querying, manipulation', 'Data visualization, business intelligence', 'Data analysis, data management']}\n",
    "\n",
    "# Create a DataFrame from the dictionary\n",
    "df = pd.DataFrame(data)\n",
    "\n",
    "# Display the DataFrame as a table\n",
    "display(df)"
   ]
  },
  {
   "cell_type": "markdown",
   "metadata": {},
   "source": [
    "Some examples of arithmetic expressions:\n",
    "\n",
    "- Addition: 5 + 3 = 8\n",
    "- Subtraction: 10 - 4 = 6\n",
    "- Multiplication: 2 * 7 = 14\n",
    "- Division: 18 / 6 = 3\n",
    "- Exponentiation: 2 ** 3 = 8 (2 raised to the power of 3)\n",
    "- Modulo: 9 % 4 = 1 (the remainder of 9 divided by 4)\n",
    "- Floor division: 17 // 3 = 5 (the quotient of 17 divided by 3, rounded down to the nearest integer)"
   ]
  },
  {
   "cell_type": "code",
   "execution_count": 5,
   "metadata": {},
   "outputs": [
    {
     "data": {
      "text/plain": [
       "8"
      ]
     },
     "execution_count": 5,
     "metadata": {},
     "output_type": "execute_result"
    }
   ],
   "source": [
    "2*4"
   ]
  },
  {
   "cell_type": "code",
   "execution_count": 6,
   "metadata": {},
   "outputs": [
    {
     "data": {
      "text/plain": [
       "17"
      ]
     },
     "execution_count": 6,
     "metadata": {},
     "output_type": "execute_result"
    }
   ],
   "source": [
    "5+12"
   ]
  },
  {
   "cell_type": "code",
   "execution_count": 7,
   "metadata": {},
   "outputs": [
    {
     "name": "stdout",
     "output_type": "stream",
     "text": [
      "Time in hours is:4.966666666666667\n"
     ]
    }
   ],
   "source": [
    "minutes=298\n",
    "hour=minutes/60\n",
    "print('Time in hours is:' + str(hour))"
   ]
  },
  {
   "cell_type": "markdown",
   "metadata": {},
   "source": [
    "### Objectives\n",
    "\n",
    "1. Understand the basics of data science and its applications\n",
    "2. Learn commonly used data science libraries and tools\n",
    "3. Become familiar with various data visualization techniques\n",
    "4. Understand different types of machine learning algorithms\n",
    "5. Learn how to evaluate model performance and make predictions\n",
    "6. Gain practical experience in applying data science techniques to real-world problems"
   ]
  },
  {
   "cell_type": "markdown",
   "metadata": {},
   "source": [
    "## AUTOR:\n",
    "Donhe Fuentes"
   ]
  },
  {
   "cell_type": "code",
   "execution_count": null,
   "metadata": {},
   "outputs": [],
   "source": []
  }
 ],
 "metadata": {
  "kernelspec": {
   "display_name": "Python",
   "language": "python",
   "name": "conda-env-python-py"
  },
  "language_info": {
   "codemirror_mode": {
    "name": "ipython",
    "version": 3
   },
   "file_extension": ".py",
   "mimetype": "text/x-python",
   "name": "python",
   "nbconvert_exporter": "python",
   "pygments_lexer": "ipython3",
   "version": "3.7.12"
  }
 },
 "nbformat": 4,
 "nbformat_minor": 4
}
